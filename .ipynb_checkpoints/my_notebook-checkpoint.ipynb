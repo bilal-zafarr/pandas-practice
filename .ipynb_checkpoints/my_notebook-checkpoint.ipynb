{
 "cells": [
  {
   "cell_type": "code",
   "execution_count": 19,
   "id": "3e1bb371",
   "metadata": {},
   "outputs": [],
   "source": [
    "import pandas as pd\n",
    "\n",
    "#df = pd.read_csv(\"pokemon_data.csv\")\n",
    "#print(df.head(3))\n",
    "\n",
    "df_xlsx = pd.read_excel(\"pokemon_data.xlsx\")\n",
    "print(df_xlsx.head(3))\n",
    "\n",
    "df_text = pd.read_csv(\"pokemon_data.txt\", delimiter = \"\\t\")\n",
    "print(df_text.head(3))"
   ]
  },
  {
   "cell_type": "code",
   "execution_count": null,
   "id": "8f64c100",
   "metadata": {},
   "outputs": [],
   "source": []
  }
 ],
 "metadata": {
  "kernelspec": {
   "display_name": "Python 3 (ipykernel)",
   "language": "python",
   "name": "python3"
  },
  "language_info": {
   "codemirror_mode": {
    "name": "ipython",
    "version": 3
   },
   "file_extension": ".py",
   "mimetype": "text/x-python",
   "name": "python",
   "nbconvert_exporter": "python",
   "pygments_lexer": "ipython3",
   "version": "3.10.6"
  }
 },
 "nbformat": 4,
 "nbformat_minor": 5
}
