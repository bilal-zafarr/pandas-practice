{
 "cells": [
  {
   "cell_type": "code",
   "execution_count": 19,
   "id": "1bab21f8",
   "metadata": {},
   "outputs": [],
   "source": [
    "import pandas as pd\n",
    "\n",
    "df = pd.read_csv(\"pokemon_data.csv\")\n",
    "print(df.head(3))\n",
    "\n",
    "# df_xlsx = pd.read_excel(\"pokemon_data.xlsx\")\n",
    "# print(df_xlsx.head(3))\n",
    "\n",
    "# df_text = pd.read_csv(\"pokemon_data.txt\", delimiter = \"\\t\")\n",
    "# print(df_text.head(3))"
   ]
  },
  {
   "cell_type": "code",
   "execution_count": 24,
   "id": "df3802a0",
   "metadata": {},
   "outputs": [
    {
     "name": "stdout",
     "output_type": "stream",
     "text": [
      "0                  Bulbasaur\n",
      "1                    Ivysaur\n",
      "2                   Venusaur\n",
      "3      VenusaurMega Venusaur\n",
      "4                 Charmander\n",
      "               ...          \n",
      "795                  Diancie\n",
      "796      DiancieMega Diancie\n",
      "797      HoopaHoopa Confined\n",
      "798       HoopaHoopa Unbound\n",
      "799                Volcanion\n",
      "Name: Name, Length: 800, dtype: object\n"
     ]
    }
   ],
   "source": [
    "## Read Headers\n",
    "# df.columns\n",
    "\n",
    "## Read each column\n",
    "# print(df[\"Name\"][0:5])\n",
    "print(df.Name)\n",
    "\n",
    "## Read each row\n",
    "\n",
    "## Read a specific location\n",
    "\n"
   ]
  },
  {
   "cell_type": "code",
   "execution_count": null,
   "id": "6095d534",
   "metadata": {},
   "outputs": [],
   "source": []
  }
 ],
 "metadata": {
  "kernelspec": {
   "display_name": "Python 3 (ipykernel)",
   "language": "python",
   "name": "python3"
  },
  "language_info": {
   "codemirror_mode": {
    "name": "ipython",
    "version": 3
   },
   "file_extension": ".py",
   "mimetype": "text/x-python",
   "name": "python",
   "nbconvert_exporter": "python",
   "pygments_lexer": "ipython3",
   "version": "3.10.6"
  }
 },
 "nbformat": 4,
 "nbformat_minor": 5
}
